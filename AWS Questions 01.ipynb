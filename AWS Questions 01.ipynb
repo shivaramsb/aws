{
 "cells": [
  {
   "cell_type": "markdown",
   "id": "ef1a00ea-4b9b-492f-ace1-a4445ff9c741",
   "metadata": {},
   "source": [
    "**Q1) Which type of load balancer makes routing decisions at either the transport layer or the application layer and supports either EC2 or VPC?**"
   ]
  },
  {
   "cell_type": "markdown",
   "id": "abdea132-ca4c-4bfc-9ad1-9f03437cc5c3",
   "metadata": {},
   "source": [
    "Answer: Classic Load Balancer\n"
   ]
  },
  {
   "cell_type": "markdown",
   "id": "552553aa-3134-417b-9944-ad6057b89a96",
   "metadata": {},
   "source": [
    "**Q2) What is a virtual network interface that you can attach to an instance in a VPC?**"
   ]
  },
  {
   "cell_type": "markdown",
   "id": "89bc8053-4be8-49a1-9f96-02042ed04396",
   "metadata": {},
   "source": [
    "Answer: Elastic Network Interface\r\n"
   ]
  },
  {
   "cell_type": "markdown",
   "id": "8af47ee6-76d2-4106-8d65-45cbf8cffeb8",
   "metadata": {},
   "source": [
    "**Q3) You have launched a Linux instance in AWS EC2. While configuring the security group, you have selected SSH, HTTP, and HTTPS protocols. Why do we need to select SSH?**"
   ]
  },
  {
   "cell_type": "markdown",
   "id": "c5cdd5f9-2b67-4649-8a0a-278b245e1787",
   "metadata": {},
   "source": [
    "Answer: To verify that there is a rule that allows traffic from the EC2 instance to your computer."
   ]
  },
  {
   "cell_type": "markdown",
   "id": "312abac0-a641-4df6-b8f6-8dd059dddf53",
   "metadata": {},
   "source": [
    "**Q4) You have chosen a Windows instance with Classic and you want to make some changes to the security group. How will these changes be effective?**"
   ]
  },
  {
   "cell_type": "markdown",
   "id": "1c2edbd4-85be-4039-89ab-4b794622d914",
   "metadata": {},
   "source": [
    "Answer: Changes are automatically applied to Windows instances.\n"
   ]
  },
  {
   "cell_type": "markdown",
   "id": "f3c529f9-c0c4-4093-9c7b-399e5e8184d2",
   "metadata": {},
   "source": [
    "**Q5) Load Balancer and DNS service come under which type of cloud service?**\n"
   ]
  },
  {
   "cell_type": "markdown",
   "id": "e4112734-7194-4a0c-b706-5d9adb53d1f4",
   "metadata": {},
   "source": [
    "Answer: IaaS - Storage\n"
   ]
  },
  {
   "cell_type": "markdown",
   "id": "4a48c65f-4e08-4055-a91c-2bfd23db9a4e",
   "metadata": {},
   "source": [
    "**Q6) You have an EC2 instance with an unencrypted volume. You want to create another encrypted volume from this unencrypted volume. \n",
    "Which of the following steps can achieve this?**"
   ]
  },
  {
   "cell_type": "markdown",
   "id": "400c2774-40f3-4439-8219-453e4623c50f",
   "metadata": {},
   "source": [
    "Answer: Create a snapshot of the unencrypted volume (applying encryption parameters), copy the snapshot, and create a volume from the copied snapshot."
   ]
  },
  {
   "cell_type": "markdown",
   "id": "0a646f01-d89f-44f3-9131-84ab053b45a3",
   "metadata": {},
   "source": [
    "**Q7) Where does the user specify the maximum number of instances with the auto-scaling commands?**"
   ]
  },
  {
   "cell_type": "markdown",
   "id": "7fc0f8ea-a123-4756-a008-bd47adaa45e5",
   "metadata": {},
   "source": [
    "Answer: Auto Scaling Launch Config\n"
   ]
  },
  {
   "cell_type": "markdown",
   "id": "cae5aa06-f9ea-48b7-b0e3-36bced47b16e",
   "metadata": {},
   "source": [
    "**Q8) What are the types of AMI provided by AWS?**\r\n"
   ]
  },
  {
   "cell_type": "markdown",
   "id": "64693369-e9be-4e63-920f-a6e40146ad90",
   "metadata": {},
   "source": [
    "Answer: Instance Store backed, EBS backed\n"
   ]
  },
  {
   "cell_type": "markdown",
   "id": "4474c033-d8e7-45d3-8bac-a0dbad2f43bf",
   "metadata": {},
   "source": [
    "**Q9) After configuring ELB, you need to ensure that the user requests are always attached to a single instance. What setting can you use?**"
   ]
  },
  {
   "cell_type": "markdown",
   "id": "22970ff2-faec-4a99-b725-a6ad61224b1f",
   "metadata": {},
   "source": [
    "Answer: Sticky session\r\n"
   ]
  },
  {
   "cell_type": "markdown",
   "id": "da965f8b-0039-4983-b638-0ef6a6cacbf9",
   "metadata": {},
   "source": [
    "**Q75) When would you prefer Provisioned IOPS over the standard RDS storage?**\r\n"
   ]
  },
  {
   "cell_type": "markdown",
   "id": "9575c23f-1971-433e-877b-53b862934e9c",
   "metadata": {},
   "source": [
    "Answer: If you have batch-oriented workloads.\n"
   ]
  }
 ],
 "metadata": {
  "kernelspec": {
   "display_name": "Python 3 (ipykernel)",
   "language": "python",
   "name": "python3"
  },
  "language_info": {
   "codemirror_mode": {
    "name": "ipython",
    "version": 3
   },
   "file_extension": ".py",
   "mimetype": "text/x-python",
   "name": "python",
   "nbconvert_exporter": "python",
   "pygments_lexer": "ipython3",
   "version": "3.11.7"
  }
 },
 "nbformat": 4,
 "nbformat_minor": 5
}
