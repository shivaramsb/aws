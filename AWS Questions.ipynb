{
 "cells": [
  {
   "cell_type": "markdown",
   "id": "0a9f1c47-d472-48df-9b66-2b6fb93ff3c5",
   "metadata": {},
   "source": [
    "**Q1. You have enabled sticky sessions with ELB. What does it do with your instance?**"
   ]
  },
  {
   "cell_type": "markdown",
   "id": "30d76601-61ac-4349-a675-c7a060ba59fa",
   "metadata": {},
   "source": [
    "Answer: Binds the user session with a specific instance.\n"
   ]
  },
  {
   "cell_type": "markdown",
   "id": "5af3deea-8734-4e0a-87de-b3673438c2b7",
   "metadata": {},
   "source": [
    "**Q2. One of my S3 buckets is deleted, but I need to restore it. Is there any possible way?**"
   ]
  },
  {
   "cell_type": "markdown",
   "id": "f10573d2-6fae-4b68-8c3e-7bd53a853d84",
   "metadata": {},
   "source": [
    "Answer: If versioning is enabled, we can easily restore it.\n"
   ]
  },
  {
   "cell_type": "markdown",
   "id": "eae559d3-ebdd-4d34-9fd9-676d0557c31b",
   "metadata": {},
   "source": [
    "**Q3. When I try to launch an EC2 instance, I get a Service limit exceeded error. How can I fix the issue?**"
   ]
  },
  {
   "cell_type": "markdown",
   "id": "6eb1ff54-4119-4605-bdc9-fe79ff20790a",
   "metadata": {},
   "source": [
    "Answer: By default, AWS offers a service limit of 20 running instances per region. To fix the issue, you need to contact AWS support to increase the limit based on the requirement."
   ]
  },
  {
   "cell_type": "markdown",
   "id": "f3122235-ae1a-4460-a2ea-c1d13a71e7a8",
   "metadata": {},
   "source": [
    "**Q4. I need to modify the EBS volumes in Linux and Windows. Is it possible?**"
   ]
  },
  {
   "cell_type": "markdown",
   "id": "587d1152-9748-4877-99d6-83942b56daad",
   "metadata": {},
   "source": [
    "Answer: Yes, it’s possible. From the console, use the modify volumes section to set the size you need. For Windows, go to disk management; \n",
    "for Linux, mount it to achieve the modification."
   ]
  },
  {
   "cell_type": "markdown",
   "id": "ae39982f-67aa-4fbb-be37-32b8d00ec446",
   "metadata": {},
   "source": [
    "**Q5. Is it possible to stop an RDS instance, and how can I do that?**"
   ]
  },
  {
   "cell_type": "markdown",
   "id": "f1ec20d4-ab61-4833-ad61-cb126e8952ac",
   "metadata": {},
   "source": [
    "Answer: Yes, it’s possible to stop RDS instances that are non-production and non-multi AZ."
   ]
  },
  {
   "cell_type": "markdown",
   "id": "362feec3-0f0c-4162-ae64-bb3b965898e8",
   "metadata": {},
   "source": [
    "**Q6. What is meant by parameter groups in RDS, and what is the use of it?**"
   ]
  },
  {
   "cell_type": "markdown",
   "id": "7731acbb-6ffe-42d7-82b6-1de6e9e6401b",
   "metadata": {},
   "source": [
    "Answer: Since RDS is a managed service, AWS offers a wide set of parameters in RDS as parameter groups, which can be modified as per requirement."
   ]
  },
  {
   "cell_type": "markdown",
   "id": "c8d2783c-4d54-4b4f-aa54-0d9679463585",
   "metadata": {},
   "source": [
    "**Q7. What is the use of tags and how are they useful?**\n"
   ]
  },
  {
   "cell_type": "markdown",
   "id": "da1bf50f-bd61-4f68-a676-6d48a02b703d",
   "metadata": {},
   "source": [
    "Answer: Tags are used for identification and grouping of AWS resources.\n"
   ]
  },
  {
   "cell_type": "markdown",
   "id": "768e3f03-0275-4ec8-b797-b71a9a618cfb",
   "metadata": {},
   "source": [
    "**Q8.I am viewing the AWS Console but unable to launch the instance. I receive an IAM Error. How can I rectify it?**"
   ]
  },
  {
   "cell_type": "markdown",
   "id": "be66da02-fd40-4db4-9da5-b88132229427",
   "metadata": {},
   "source": [
    "Answer: As an AWS user, I don’t have access to use it. I need to have permissions to use it further."
   ]
  },
  {
   "cell_type": "markdown",
   "id": "088801eb-eb91-44fb-b271-b3abe7eb7822",
   "metadata": {},
   "source": [
    "Q I don’t want my AWS Account ID to be exposed to users. How can I avoid it?\n"
   ]
  },
  {
   "cell_type": "markdown",
   "id": "4e08326a-7cb3-43ca-9020-22e91d8860fb",
   "metadata": {},
   "source": [
    "Answer: In the IAM console, there is an option to create a sign-in URL where I can rename my account name instead of using the AWS account ID."
   ]
  },
  {
   "cell_type": "markdown",
   "id": "f9b6c712-1dd9-40ae-b67f-ca92fd885c6c",
   "metadata": {},
   "source": [
    "Q65) By default, how many Elastic IP addresses does AWS offer?"
   ]
  },
  {
   "cell_type": "markdown",
   "id": "772cd6f0-e29f-4a93-a148-3e4eb2f36149",
   "metadata": {},
   "source": [
    "Answer: 5 Elastic IP addresses per region."
   ]
  },
  {
   "cell_type": "code",
   "execution_count": null,
   "id": "3159f058-9bc5-4996-a414-cfb153429ab2",
   "metadata": {},
   "outputs": [],
   "source": []
  }
 ],
 "metadata": {
  "kernelspec": {
   "display_name": "Python 3 (ipykernel)",
   "language": "python",
   "name": "python3"
  },
  "language_info": {
   "codemirror_mode": {
    "name": "ipython",
    "version": 3
   },
   "file_extension": ".py",
   "mimetype": "text/x-python",
   "name": "python",
   "nbconvert_exporter": "python",
   "pygments_lexer": "ipython3",
   "version": "3.11.7"
  }
 },
 "nbformat": 4,
 "nbformat_minor": 5
}
