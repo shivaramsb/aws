{
 "cells": [
  {
   "cell_type": "markdown",
   "id": "dbb0e81b-17b7-436f-9147-feea4fa7d0ea",
   "metadata": {},
   "source": [
    "**Q1) How can you convert a public subnet to private subnet?***"
   ]
  },
  {
   "cell_type": "markdown",
   "id": "084bbfc7-659f-4b02-bc76-90b1bed7efaa",
   "metadata": {},
   "source": [
    "Answer: Remove IGW & add NAT Gateway, Associate subnet in Private route table \r\n",
    "\n"
   ]
  },
  {
   "cell_type": "markdown",
   "id": "e308724e-dd99-4b65-9acc-a72be11c30e3",
   "metadata": {},
   "source": [
    "**Q2) What are the two types of access that you can provide when you are creating users?**"
   ]
  },
  {
   "cell_type": "markdown",
   "id": "642c7178-302d-4746-840e-3554d2131c7b",
   "metadata": {},
   "source": [
    "Answer: Following are the two types of access that you can create. \r\n",
    "• Programmatic access \r\n",
    "• Console access"
   ]
  },
  {
   "cell_type": "markdown",
   "id": "675ebb34-b41b-44e8-9a8a-8c01104b321a",
   "metadata": {},
   "source": [
    "**Q3) What are the benefits of auto scaling?**"
   ]
  },
  {
   "cell_type": "markdown",
   "id": "7baa50a3-6629-437f-92e9-7702f2e91cd9",
   "metadata": {},
   "source": [
    "Answer: Following are the benefits of auto scaling \n",
    "• Better fault tolerance \n",
    "• Better availability \n",
    "• Better cost management "
   ]
  },
  {
   "cell_type": "markdown",
   "id": "4d151d97-4d4b-42ee-b703-c5cb7a6610d7",
   "metadata": {},
   "source": [
    "Q49) What are security groups? \n"
   ]
  },
  {
   "cell_type": "markdown",
   "id": "b6701f90-41c7-4e6a-b0d1-ff76f2d31ca8",
   "metadata": {},
   "source": [
    "Answer: Security groups acts as a firewall that contains the traffic for one or more instances. \n",
    "You can associate one or more security groups to your instances when you launch then. You can add rules to each security group \n",
    "that allow traffic to and from its associated instances. You can modify the rules of a security group at any time, \n",
    "the new rules are automatically and immediately applied to all the instances that are associated with the security group"
   ]
  },
  {
   "cell_type": "markdown",
   "id": "83c8fe29-6a95-4cf3-bb13-704cd513b2b9",
   "metadata": {},
   "source": [
    "Q50) What are shared AMI’s? "
   ]
  },
  {
   "cell_type": "markdown",
   "id": "253f4f64-2acb-4dbd-9974-8df064d4d8ad",
   "metadata": {},
   "source": [
    "Answer: Shared AMI’s are the AMI that are created by other developed and made available for other developed to use. "
   ]
  },
  {
   "cell_type": "markdown",
   "id": "716d617c-cae5-42af-a601-f6dc699148b0",
   "metadata": {},
   "source": [
    "Q51)What is the difference between the classic load balancer and application load balancer? "
   ]
  },
  {
   "cell_type": "markdown",
   "id": "1f6e39d6-d348-4279-8bb8-c8ebc73ba963",
   "metadata": {},
   "source": [
    "Answer: Dynamic port mapping, multiple port multiple listeners is used in Application Load Balancer, \n",
    "One port one listener is achieved via Classic Load Balancer"
   ]
  },
  {
   "cell_type": "markdown",
   "id": "01f3b8d5-0396-4ca4-a856-e290203aa910",
   "metadata": {},
   "source": [
    "Q52) By default how many Ip address does aws reserve in a subnet? \n"
   ]
  },
  {
   "cell_type": "markdown",
   "id": "c22d4de3-309e-49ea-8794-dd24dcdaf5ba",
   "metadata": {},
   "source": [
    "Answer: 5 \n"
   ]
  },
  {
   "cell_type": "markdown",
   "id": "ab7c09ed-438e-4ca6-b8f6-463cf6e95a88",
   "metadata": {},
   "source": [
    "Q53) What is meant by subnet? \n"
   ]
  },
  {
   "cell_type": "markdown",
   "id": "cd1c1b8e-2229-40df-9fca-60881e07a914",
   "metadata": {},
   "source": [
    "Answer: A large section of IP Address divided in to chunks are known as subnets \n"
   ]
  },
  {
   "cell_type": "markdown",
   "id": "c3334338-b364-4754-9f83-1a6d7d33ee8d",
   "metadata": {},
   "source": [
    "Q54) Is it possible to reduce a ebs volume? \n"
   ]
  },
  {
   "cell_type": "markdown",
   "id": "297626d1-dce3-450a-a233-012cf5c43d7e",
   "metadata": {},
   "source": [
    "Answer: no it’s not possible, we can increase it but not reduce them \n"
   ]
  },
  {
   "cell_type": "markdown",
   "id": "d7db47d8-2796-4421-a74d-9da6e564eb79",
   "metadata": {},
   "source": [
    "Q55) What is the use of elastic ip are they charged by AWS? \n"
   ]
  },
  {
   "cell_type": "markdown",
   "id": "abba543b-2254-4aa9-a724-56884d118fd4",
   "metadata": {},
   "source": [
    "Answer: These are ipv4 address which are used to connect the instance from internet, they are charged if the instances are not attached to it"
   ]
  }
 ],
 "metadata": {
  "kernelspec": {
   "display_name": "Python 3 (ipykernel)",
   "language": "python",
   "name": "python3"
  },
  "language_info": {
   "codemirror_mode": {
    "name": "ipython",
    "version": 3
   },
   "file_extension": ".py",
   "mimetype": "text/x-python",
   "name": "python",
   "nbconvert_exporter": "python",
   "pygments_lexer": "ipython3",
   "version": "3.11.7"
  }
 },
 "nbformat": 4,
 "nbformat_minor": 5
}
