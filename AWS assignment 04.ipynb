{
 "cells": [
  {
   "cell_type": "markdown",
   "id": "9e2b4cd2-ba6e-4ec8-a883-8a9a333b0029",
   "metadata": {},
   "source": [
    "**Q1) What are policies and what are the types of policies?**\n"
   ]
  },
  {
   "cell_type": "markdown",
   "id": "3b8bf0d5-8196-4919-a47b-279d0247e244",
   "metadata": {},
   "source": [
    "Answer: Policies are permissions that you can attach to the users that you create. \n",
    "These policies will contain that access that you have provided to the users that you have created. \n",
    "There are 2 types of policies. \n",
    "• Managed policies \n",
    "• Inline policies "
   ]
  },
  {
   "cell_type": "markdown",
   "id": "5b6bd3df-270f-40a9-93e5-ebbf212f0d47",
   "metadata": {},
   "source": [
    "**Q2) What is cloudfront?**\n"
   ]
  },
  {
   "cell_type": "markdown",
   "id": "775d2c71-6688-4f45-ad10-dc8a4ec08c0e",
   "metadata": {},
   "source": [
    "Answer: Cloudfront is an AWS web service that provided businesses and application developers an easy and \n",
    "efficient way to distribute their content with low latency and high data transfer speeds. \n",
    "Cloudfront is content delivery network of AWS. "
   ]
  },
  {
   "cell_type": "markdown",
   "id": "0450d8a0-c36b-47e0-b7e2-fe88136a307b",
   "metadata": {},
   "source": [
    "**Q3) What are edge locations?**\n"
   ]
  },
  {
   "cell_type": "markdown",
   "id": "987367b5-1ae7-4254-9a53-9c4429afc2ce",
   "metadata": {},
   "source": [
    "Answer: Edge location is the place where the contents will be cached. When a user tries to access some content, \n",
    "the content will be searched in the edge location. If it is not available then the content will be made \n",
    "available from the origin location and a copy will be stored in the edge location. "
   ]
  },
  {
   "cell_type": "markdown",
   "id": "411e0027-605b-44d5-bd41-e06d01147d45",
   "metadata": {},
   "source": [
    "**Q4) What is the maximum individual archive that you can store in glacier?**"
   ]
  },
  {
   "cell_type": "markdown",
   "id": "7c002cac-6402-4cb4-b608-f8676a023bc0",
   "metadata": {},
   "source": [
    " Answer: You can store a maximum individual archive of upto 40 TB. "
   ]
  },
  {
   "cell_type": "markdown",
   "id": "ff12523b-240f-45e7-aab0-48a3bd5aaf65",
   "metadata": {},
   "source": [
    "**Q5) What is VPC?**\n"
   ]
  },
  {
   "cell_type": "markdown",
   "id": "eba714f3-864f-4c13-97b2-8c5a43dd0c64",
   "metadata": {},
   "source": [
    "Answer: VPC stands for Virtual Private Cloud. VPC allows you to easily customize your networking configuration.\n",
    "VPC is a network that is logically isolated from other network in the cloud. It allows you to have your own \n",
    "IP address range, subnets, internet gateways, NAT gateways and security groups. "
   ]
  },
  {
   "cell_type": "markdown",
   "id": "66266ce2-d6ed-4b97-a6cf-73dbcd6b7d1f",
   "metadata": {},
   "source": [
    "**Q6) What is VPC peering connection?**\n"
   ]
  },
  {
   "cell_type": "markdown",
   "id": "3e0c3abd-fa2f-4caf-812a-8ea96ab4052e",
   "metadata": {},
   "source": [
    "Answer: VPC peering connection allows you to connect 1 VPC with another VPC. Instances in these VPC behave as if they are in the same network. "
   ]
  },
  {
   "cell_type": "markdown",
   "id": "a720dde3-fc25-4521-9dfd-55dbda71468a",
   "metadata": {},
   "source": [
    "**Q7) What are NAT gateways?** \n"
   ]
  },
  {
   "cell_type": "markdown",
   "id": "6a090a2c-30ea-4df7-b7c9-0ca13e29a022",
   "metadata": {},
   "source": [
    "Answer: NAT stands for Network Address Translation. NAT gateways enables instances in a private subnet to connect to the internet \n",
    "but prevent the internet from initiating a connection with those instances. "
   ]
  },
  {
   "cell_type": "markdown",
   "id": "e9947a8b-af8b-47a4-9ecd-a5af180f3d0d",
   "metadata": {},
   "source": [
    "**Q8) How can you control the security to your VPC?**\n"
   ]
  },
  {
   "cell_type": "markdown",
   "id": "8b6a6083-f50b-4469-8889-30a2fe2cca2e",
   "metadata": {},
   "source": [
    "Answer: You can use security groups and NACL (Network Access Control List) to control the security to your VPC. "
   ]
  },
  {
   "cell_type": "markdown",
   "id": "88e976d4-546c-4443-ad80-91607b5cf44b",
   "metadata": {},
   "source": [
    "**Q9) What are the different types of storage gateway?** \n"
   ]
  },
  {
   "cell_type": "markdown",
   "id": "4e39075f-698d-4732-8d73-f663f6e7c795",
   "metadata": {},
   "source": [
    "Answer: Following are the types of storage gateway. \n",
    "• File gateway \n",
    "• Volume gateway \n",
    "• Tape gateway "
   ]
  },
  {
   "cell_type": "markdown",
   "id": "199a2740-6739-49cd-acb4-8239264ddb72",
   "metadata": {},
   "source": [
    "**Q10) What is a snowball?**\n"
   ]
  },
  {
   "cell_type": "markdown",
   "id": "2d22e72c-9d77-417d-974f-65e7a7491b23",
   "metadata": {},
   "source": [
    "Answer: Snowball is a data transport solution that used source appliances to transfer large amounts of data into and out of AWS. \n",
    "Using snowball, you can move huge amount of data from one place to another \n",
    "which reduces your network costs, long transfer times and also provides better security."
   ]
  }
 ],
 "metadata": {
  "kernelspec": {
   "display_name": "Python 3 (ipykernel)",
   "language": "python",
   "name": "python3"
  },
  "language_info": {
   "codemirror_mode": {
    "name": "ipython",
    "version": 3
   },
   "file_extension": ".py",
   "mimetype": "text/x-python",
   "name": "python",
   "nbconvert_exporter": "python",
   "pygments_lexer": "ipython3",
   "version": "3.11.7"
  }
 },
 "nbformat": 4,
 "nbformat_minor": 5
}
