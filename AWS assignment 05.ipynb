{
 "cells": [
  {
   "cell_type": "markdown",
   "id": "112fa5e3-093b-4fab-b5f9-1074a34ef41a",
   "metadata": {},
   "source": [
    "**Q1) What are policies and what are the types of policies?**\n"
   ]
  },
  {
   "cell_type": "markdown",
   "id": "ba02a45f-a4a4-4e0c-87ea-a3684d1b4b7a",
   "metadata": {},
   "source": [
    "Answer: Policies are permissions that you can attach to the users that you create. \n",
    "These policies will contain that access that you have provided to the users that you have created. \n",
    "There are 2 types of policies. \n",
    "• Managed policies \n",
    "• Inline policies "
   ]
  },
  {
   "cell_type": "markdown",
   "id": "51637b2c-e22a-462c-a7ea-71d4ef265e98",
   "metadata": {},
   "source": [
    "**Q2) What is cloudfront?**\r\n"
   ]
  },
  {
   "cell_type": "markdown",
   "id": "c7275bdc-e905-4c02-93e6-e5ac2d5012a7",
   "metadata": {},
   "source": [
    "Answer: Cloudfront is an AWS web service that provided businesses and application developers an easy and efficient way \n",
    "to distribute their content with low latency and high data transfer speeds. Cloudfront is content delivery network of AWS. \r\n"
   ]
  },
  {
   "cell_type": "markdown",
   "id": "706d4192-a490-4b1f-b986-ceb2a84a2053",
   "metadata": {},
   "source": [
    "**Q3) What are edge locations?** \n"
   ]
  },
  {
   "cell_type": "markdown",
   "id": "cd5f6c62-ef88-4000-82e8-ab0961152922",
   "metadata": {},
   "source": [
    "Answer: Edge location is the place where the contents will be cached. When a user tries to access some content, \n",
    "the content will be searched in the edge location. If it is not available then the content will be made available \n",
    "from the origin location and a copy will be stored in the edge location. "
   ]
  },
  {
   "cell_type": "markdown",
   "id": "28c24493-9178-492a-8e20-2c095150cbf8",
   "metadata": {},
   "source": [
    "**Q4) What is the maximum individual archive that you can store in glacier?**"
   ]
  },
  {
   "cell_type": "markdown",
   "id": "e8f0abd9-3a93-4c1f-816c-fcdc7c554efe",
   "metadata": {},
   "source": [
    "Answer: You can store a maximum individual archive of upto 40 TB. "
   ]
  },
  {
   "cell_type": "markdown",
   "id": "f61cf6cb-9d44-4535-b000-0181a7a931c1",
   "metadata": {},
   "source": [
    "**Q5) What is VPC?**\n"
   ]
  },
  {
   "cell_type": "markdown",
   "id": "9dc330ee-87a6-4915-a755-06da6bf3a948",
   "metadata": {},
   "source": [
    "Answer: VPC stands for Virtual Private Cloud. VPC allows you to easily customize your networking configuration. \n",
    "VPC is a network that is logically isolated from other network in the cloud. It allows you to have your own \n",
    "IP address range, subnets, internet gateways, NAT gateways and security groups. "
   ]
  },
  {
   "cell_type": "markdown",
   "id": "53793f62-a1e3-4750-afa1-d976783ff6ab",
   "metadata": {},
   "source": [
    "**Q6) What is VPC peering connection?** \n"
   ]
  },
  {
   "cell_type": "markdown",
   "id": "787ff2ea-cd02-4e4c-8432-4bcc3bab7833",
   "metadata": {},
   "source": [
    "Answer: VPC peering connection allows you to connect 1 VPC with another VPC. \n",
    "Instances in these VPC behave as if they are in the same network. "
   ]
  },
  {
   "cell_type": "markdown",
   "id": "19bfd65c-19c3-496d-b414-7150c99354fa",
   "metadata": {},
   "source": [
    "**Q) What are NAT gateways?**\n"
   ]
  },
  {
   "cell_type": "markdown",
   "id": "9bf4266c-1962-4a06-b5a6-6d29f8461acc",
   "metadata": {},
   "source": [
    "Answer: NAT stands for Network Address Translation. NAT gateways enables instances in a private subnet to connect to the internet but prevent\n",
    "the internet from initiating a connection with those instances. "
   ]
  },
  {
   "cell_type": "markdown",
   "id": "834cd65e-5cf5-4306-8d89-ad101c0ab98a",
   "metadata": {},
   "source": [
    "Q33) How can you control the security to your VPC? "
   ]
  },
  {
   "cell_type": "markdown",
   "id": "131f4e95-bf40-42f9-930a-39668398c608",
   "metadata": {},
   "source": [
    "Answer: You can use security groups and NACL (Network Access Control List) to control the security to your VPC. "
   ]
  },
  {
   "cell_type": "markdown",
   "id": "5344e029-b33b-4b74-97da-7445ce01c348",
   "metadata": {},
   "source": [
    "Q34) What are the different types of storage gateway? "
   ]
  },
  {
   "cell_type": "markdown",
   "id": "68dbeaad-1e2c-4fb3-a111-105020b9587d",
   "metadata": {},
   "source": [
    "Answer: Following are the types of storage gateway. • File gateway • Volume gateway • Tape gateway "
   ]
  },
  {
   "cell_type": "markdown",
   "id": "d268ab9a-66ac-45f6-8c04-1f394fa69a81",
   "metadata": {},
   "source": [
    "Q35) What is a snowball? \n"
   ]
  },
  {
   "cell_type": "markdown",
   "id": "c376a75f-feb7-4981-8e5b-cebd57dd73f3",
   "metadata": {},
   "source": [
    "Answer: Snowball is a data transport solution that used source appliances to transfer large amounts of \n",
    "data into and out of AWS. Using snowball, you can move huge amount of data from one place to another\n",
    "which reduces your network costs, long transfer times and also provides better security."
   ]
  }
 ],
 "metadata": {
  "kernelspec": {
   "display_name": "Python 3 (ipykernel)",
   "language": "python",
   "name": "python3"
  },
  "language_info": {
   "codemirror_mode": {
    "name": "ipython",
    "version": 3
   },
   "file_extension": ".py",
   "mimetype": "text/x-python",
   "name": "python",
   "nbconvert_exporter": "python",
   "pygments_lexer": "ipython3",
   "version": "3.11.7"
  }
 },
 "nbformat": 4,
 "nbformat_minor": 5
}
