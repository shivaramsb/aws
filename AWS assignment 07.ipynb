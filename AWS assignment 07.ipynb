{
 "cells": [
  {
   "cell_type": "markdown",
   "id": "db5e57c2-4d76-45fc-9699-0010ec682925",
   "metadata": {},
   "source": [
    "**Q1) application should be verify the existence of file in S3. How do the application use the AWS credentials to access S3 bucket securely?**\n"
   ]
  },
  {
   "cell_type": "markdown",
   "id": "fa98d65f-490b-4255-aac2-7cc3c86c6e23",
   "metadata": {},
   "source": [
    "Answer:An Create an IAM role for the EC2 that allows list access to objects in S3 buckets. Launch to instance with this role,\n",
    "and retrieve an role’s credentials from EC2 Instance make metadata. "
   ]
  },
  {
   "cell_type": "markdown",
   "id": "dd7faf3c-7c0b-41b3-b3ce-38a55a243fab",
   "metadata": {},
   "source": [
    "**Q2) An created a key in the oregon region to encrypt of my data in North Virginia region for security purposes. \n",
    "I added to two users to the key and the external AWS accounts. \n",
    "I wanted to encrypt an the object in S3, so when I was tried, then key that I just created is not listed.What could be reason&solution?**"
   ]
  },
  {
   "cell_type": "markdown",
   "id": "f8f98a57-b082-4325-8e94-bba3d0ec4bd5",
   "metadata": {},
   "source": [
    "Answer:The Key should be working in the same region. \n"
   ]
  },
  {
   "cell_type": "markdown",
   "id": "074c1969-3ed6-465f-93e1-e2be3ac33283",
   "metadata": {},
   "source": [
    "**Q3) As a company needs to monitor a read and write IOPS for the AWS MySQL RDS instances and \n",
    "then send real-time alerts to the operations of team. Which AWS services to can accomplish this?** "
   ]
  },
  {
   "cell_type": "markdown",
   "id": "c3d8235f-b8ff-459d-a699-1f9f31822e33",
   "metadata": {},
   "source": [
    "Answer:The monitoring on Amazon CloudWatch \n"
   ]
  },
  {
   "cell_type": "markdown",
   "id": "600c915c-75bd-4a0e-aa40-3e3751110aa9",
   "metadata": {},
   "source": [
    "**Q4) The organization that is currently using the consolidated billing has to recently acquired to \n",
    "another company that already has a number of the AWS accounts. How could an Administrator to ensure that all the AWS accounts, \n",
    "from the both existing company and then acquired company, is billed to the single account?** "
   ]
  },
  {
   "cell_type": "markdown",
   "id": "60812dc1-7052-41e2-b54e-97b519eb9817",
   "metadata": {},
   "source": [
    "Answer: All Invites take acquired the company’s AWS account to join existing the company’s of organization by using AWS Organizations."
   ]
  },
  {
   "cell_type": "markdown",
   "id": "9df0e6a3-9b7b-4782-b347-897bd933d3da",
   "metadata": {},
   "source": [
    "**Q5) The user has created an the applications, which will be hosted on the EC2. The application makes calls to the Dynamo DB to fetch on certain data. \n",
    "The application using the DynamoDB SDK to connect with the EC2 instance. Which of respect to best practice for the security in this scenario?** "
   ]
  },
  {
   "cell_type": "markdown",
   "id": "c9175c3d-d0d9-4ca1-abc7-69dcd4daf2dc",
   "metadata": {},
   "source": [
    "Answer: The user should be attach an IAM roles with the DynamoDB access to EC2 instance. "
   ]
  }
 ],
 "metadata": {
  "kernelspec": {
   "display_name": "Python 3 (ipykernel)",
   "language": "python",
   "name": "python3"
  },
  "language_info": {
   "codemirror_mode": {
    "name": "ipython",
    "version": 3
   },
   "file_extension": ".py",
   "mimetype": "text/x-python",
   "name": "python",
   "nbconvert_exporter": "python",
   "pygments_lexer": "ipython3",
   "version": "3.11.7"
  }
 },
 "nbformat": 4,
 "nbformat_minor": 5
}
