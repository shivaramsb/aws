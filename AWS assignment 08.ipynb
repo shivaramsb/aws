{
 "cells": [
  {
   "cell_type": "markdown",
   "id": "46ac0159-319a-477d-9a70-8b07a353aad7",
   "metadata": {},
   "source": [
    "**What is Amazon EC2?**\n"
   ]
  },
  {
   "cell_type": "markdown",
   "id": "7d73a88d-254c-4eb5-8b8c-75cc8b695ed0",
   "metadata": {},
   "source": [
    "Amazon EC2 provides scalable computing capacity in the AWS cloud, enabling users to run virtual \n",
    "servers on-demand and manage them with flexibility and control."
   ]
  },
  {
   "cell_type": "markdown",
   "id": "0929ba51-0e55-4fb8-9c9d-9de03a439085",
   "metadata": {},
   "source": [
    "**What are EC2 instances?**\n"
   ]
  },
  {
   "cell_type": "markdown",
   "id": "ae994964-0036-4da9-a8bb-fdbc352476f4",
   "metadata": {},
   "source": [
    "EC2 instances are virtual servers in the cloud that provide resizable compute capacity, designed to \n",
    "make web-scale cloud computing easier for developers.\n",
    "\n"
   ]
  },
  {
   "cell_type": "markdown",
   "id": "674c0f59-f337-4a6e-9778-a7c2e382b38e",
   "metadata": {},
   "source": [
    "**What is an Amazon Machine Image (AMI)?**\n"
   ]
  },
  {
   "cell_type": "markdown",
   "id": "fca40dd2-7bc5-4288-9767-2defe355e3b1",
   "metadata": {},
   "source": [
    "An AMI is a template that contains the software configuration (OS, application server, and applications) required to launch an EC2 instance."
   ]
  },
  {
   "cell_type": "markdown",
   "id": "0cf46b40-2c3d-4ac3-ac41-fd5b20a02749",
   "metadata": {},
   "source": [
    "**What are the pricing models available for EC2 instances?\n"
   ]
  },
  {
   "cell_type": "markdown",
   "id": "89761d90-9d54-49b3-87c8-d15bfd98a1d0",
   "metadata": {},
   "source": [
    "EC2 pricing models include On-Demand, Reserved Instances, Spot Instances, and Savings Plans, offering flexibility in cost management.\n",
    "\n"
   ]
  },
  {
   "cell_type": "markdown",
   "id": "e479e5f1-2f5a-4253-8992-0b335b99d550",
   "metadata": {},
   "source": [
    "What is an EBS volume in Amazon EC2?\n"
   ]
  },
  {
   "cell_type": "markdown",
   "id": "d8cdf65d-1550-4eb4-adfb-b57ca1f97522",
   "metadata": {},
   "source": [
    "Amazon Elastic Block Store (EBS) provides persistent block storage volumes for use with EC2 instances, ensuring data durability."
   ]
  }
 ],
 "metadata": {
  "kernelspec": {
   "display_name": "Python 3 (ipykernel)",
   "language": "python",
   "name": "python3"
  },
  "language_info": {
   "codemirror_mode": {
    "name": "ipython",
    "version": 3
   },
   "file_extension": ".py",
   "mimetype": "text/x-python",
   "name": "python",
   "nbconvert_exporter": "python",
   "pygments_lexer": "ipython3",
   "version": "3.11.7"
  }
 },
 "nbformat": 4,
 "nbformat_minor": 5
}
