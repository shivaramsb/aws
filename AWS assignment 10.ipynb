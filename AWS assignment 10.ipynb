{
 "cells": [
  {
   "cell_type": "markdown",
   "id": "d25ecba4-423a-45ca-9dcb-ce1d7cc769fa",
   "metadata": {},
   "source": [
    "**How do Security Groups work in EC2?\n"
   ]
  },
  {
   "cell_type": "markdown",
   "id": "c3a1b493-4809-404a-a4ca-6ce757f45a81",
   "metadata": {},
   "source": [
    "Security Groups act as virtual firewalls for EC2 instances, controlling inbound and outbound traffic based on specified rules."
   ]
  },
  {
   "cell_type": "markdown",
   "id": "139aedd9-46f6-4ea8-867d-603f64e7a5e6",
   "metadata": {},
   "source": [
    "What is EC2 Auto Scaling?\n"
   ]
  },
  {
   "cell_type": "markdown",
   "id": "94f26fd0-43ed-4426-b2ec-da0ee9b4c70b",
   "metadata": {},
   "source": [
    "EC2 Auto Scaling automatically adjusts the number of EC2 instances in a group based on defined conditions, ensuring performance and cost-efficiency."
   ]
  },
  {
   "cell_type": "markdown",
   "id": "34fc28a0-701d-4bbb-a45a-08c192612541",
   "metadata": {},
   "source": [
    "How do EC2 instance types differ?\n"
   ]
  },
  {
   "cell_type": "markdown",
   "id": "689f2323-4d6a-4f92-9667-ce738c1f46fa",
   "metadata": {},
   "source": [
    "EC2 instance types vary by CPU, memory, storage, and networking capacity, catering to different workload requirements."
   ]
  },
  {
   "cell_type": "markdown",
   "id": "0562bffc-a108-4a93-9a07-156ced68bfdb",
   "metadata": {},
   "source": [
    "What is Elastic IP in EC2?\n"
   ]
  },
  {
   "cell_type": "markdown",
   "id": "3e5fd578-2b7f-4389-955d-deff12989fc3",
   "metadata": {},
   "source": [
    "An Elastic IP is a static IPv4 address designed for dynamic cloud computing, which can be associated with any EC2 instance in a region.\n",
    "\n"
   ]
  },
  {
   "cell_type": "markdown",
   "id": "9991fea1-c0bb-49c6-843b-a32ebe91a39a",
   "metadata": {},
   "source": [
    "How does EC2 integrate with other AWS services?\n"
   ]
  },
  {
   "cell_type": "markdown",
   "id": "6790f16e-4d5d-4633-b508-2f180198f550",
   "metadata": {},
   "source": [
    "EC2 integrates seamlessly with services like S3, RDS, CloudWatch, and IAM, providing comprehensive cloud solutions for various applications."
   ]
  }
 ],
 "metadata": {
  "kernelspec": {
   "display_name": "Python 3 (ipykernel)",
   "language": "python",
   "name": "python3"
  },
  "language_info": {
   "codemirror_mode": {
    "name": "ipython",
    "version": 3
   },
   "file_extension": ".py",
   "mimetype": "text/x-python",
   "name": "python",
   "nbconvert_exporter": "python",
   "pygments_lexer": "ipython3",
   "version": "3.11.7"
  }
 },
 "nbformat": 4,
 "nbformat_minor": 5
}
