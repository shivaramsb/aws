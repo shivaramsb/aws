{
 "cells": [
  {
   "cell_type": "markdown",
   "id": "2f95997c-f5dc-4890-9b93-4b7cd9c78a4d",
   "metadata": {},
   "source": [
    "**1.What is AWS Identity and Access Management (IAM)?**\n"
   ]
  },
  {
   "cell_type": "markdown",
   "id": "cea49ef4-1642-4dbf-a663-32d81ee89e76",
   "metadata": {},
   "source": [
    "Answer: AWS IAM helps manage access to resources by creating users, roles, and policies, ensuring that only authorized \n",
    "individuals can access specific services and resources within your AWS environment."
   ]
  },
  {
   "cell_type": "markdown",
   "id": "df24d395-14ed-45b6-8678-b6ff84f4bbe4",
   "metadata": {},
   "source": [
    "**2.What is the principle of least privilege in AWS?**\n"
   ]
  },
  {
   "cell_type": "markdown",
   "id": "8443217c-8bd8-450c-94c1-8e92a209410d",
   "metadata": {},
   "source": [
    "Answer: The least privilege principle grants only the necessary permissions to users or services, minimizing exposure and reducing \n",
    "security risks by limiting access to resources based solely on job requirements."
   ]
  },
  {
   "cell_type": "markdown",
   "id": "c128e524-dbf8-430a-add0-bdeea29a1ff7",
   "metadata": {},
   "source": [
    "**3.How does AWS Key Management Service (KMS) enhance security?\n"
   ]
  },
  {
   "cell_type": "markdown",
   "id": "abbcb68e-ffc4-4f69-83d0-b271f4644449",
   "metadata": {},
   "source": [
    "AWS KMS allows you to create, manage, and control cryptographic keys for securing sensitive data, \n",
    "providing encryption for data at rest and in transit, thus ensuring robust data protection.\n",
    "\n"
   ]
  },
  {
   "cell_type": "markdown",
   "id": "686d2d3f-1412-47fe-86b9-2a801d2f6435",
   "metadata": {},
   "source": [
    "What is Amazon GuardDuty?\n"
   ]
  },
  {
   "cell_type": "markdown",
   "id": "3469f34e-d769-4a17-854f-ece8c7e8d943",
   "metadata": {},
   "source": [
    "Amazon GuardDuty is a threat detection service that continuously monitors for malicious or unauthorized behavior within \n",
    "AWS accounts by analyzing event data to enhance security."
   ]
  },
  {
   "cell_type": "markdown",
   "id": "1c4ff4bb-5563-440a-9601-88203444ffe1",
   "metadata": {},
   "source": [
    "How does AWS Security Hub help in security management?\n"
   ]
  },
  {
   "cell_type": "markdown",
   "id": "b56cde4e-36db-4d20-9707-cbaa92801e68",
   "metadata": {},
   "source": [
    "AWS Security Hub provides a comprehensive view of security alerts and compliance checks across AWS accounts, integrating security findings from \n",
    "multiple AWS services into a centralized dashboard for easy management."
   ]
  }
 ],
 "metadata": {
  "kernelspec": {
   "display_name": "Python 3 (ipykernel)",
   "language": "python",
   "name": "python3"
  },
  "language_info": {
   "codemirror_mode": {
    "name": "ipython",
    "version": 3
   },
   "file_extension": ".py",
   "mimetype": "text/x-python",
   "name": "python",
   "nbconvert_exporter": "python",
   "pygments_lexer": "ipython3",
   "version": "3.11.7"
  }
 },
 "nbformat": 4,
 "nbformat_minor": 5
}
