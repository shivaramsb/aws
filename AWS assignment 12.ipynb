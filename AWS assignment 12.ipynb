{
 "cells": [
  {
   "cell_type": "markdown",
   "id": "e7d0f856-4ca1-4057-b7f9-e47115f3a3d5",
   "metadata": {},
   "source": [
    "**1.What is AWS Shield and how does it protect against DDoS attacks?**\n"
   ]
  },
  {
   "cell_type": "markdown",
   "id": "36806f20-738e-4680-b028-42991c8f21e4",
   "metadata": {},
   "source": [
    "Answer: AWS Shield is a managed DDoS protection service that safeguards applications against Distributed Denial of Service attacks, providing real-time \n",
    "attack mitigation and increased resiliency for web applications."
   ]
  },
  {
   "cell_type": "markdown",
   "id": "9ad3b971-99ad-4bcd-b87c-b08e0e4cd590",
   "metadata": {},
   "source": [
    "**2.How can AWS CloudTrail improve security auditing?**\n"
   ]
  },
  {
   "cell_type": "markdown",
   "id": "74b6c427-32d5-4b3d-b6f4-ac9e6cd14e29",
   "metadata": {},
   "source": [
    "Answer: AWS CloudTrail logs all account activity across AWS services, enabling security auditing, monitoring, and incident response by \n",
    "providing a detailed record of every API call made within your AWS environment."
   ]
  },
  {
   "cell_type": "markdown",
   "id": "f912c084-2826-479b-b9e0-a379be891fe6",
   "metadata": {},
   "source": [
    "**3.What is the shared responsibility model in AWS security?**\n"
   ]
  },
  {
   "cell_type": "markdown",
   "id": "3034b9a1-f355-4a94-9ad4-daf70be973a5",
   "metadata": {},
   "source": [
    "The shared responsibility model divides security duties between AWS and customers, where AWS manages infrastructure security,\n",
    "and customers are responsible for securing their data and applications."
   ]
  },
  {
   "cell_type": "markdown",
   "id": "e5d65e39-61fb-484d-a566-d707312c1111",
   "metadata": {},
   "source": [
    "How does encryption at rest work in AWS?\n"
   ]
  },
  {
   "cell_type": "markdown",
   "id": "ef128253-7b3a-4605-890b-2894a5f1e1d9",
   "metadata": {},
   "source": [
    "Encryption at rest in AWS ensures that stored data is encrypted using services like AWS KMS, \n",
    "protecting data from unauthorized access by securing it when inactive."
   ]
  },
  {
   "cell_type": "markdown",
   "id": "a21823d2-5ed6-40aa-848c-bf92dba69214",
   "metadata": {},
   "source": [
    "What are security groups in AWS?\n"
   ]
  },
  {
   "cell_type": "markdown",
   "id": "d82219f1-25db-44e1-a4b3-60ee8ade5f06",
   "metadata": {},
   "source": [
    "Security groups act as virtual firewalls for EC2 instances, controlling inbound and \n",
    "outbound traffic at the instance level based on defined rules, enhancing network security in the AWS cloud."
   ]
  }
 ],
 "metadata": {
  "kernelspec": {
   "display_name": "Python 3 (ipykernel)",
   "language": "python",
   "name": "python3"
  },
  "language_info": {
   "codemirror_mode": {
    "name": "ipython",
    "version": 3
   },
   "file_extension": ".py",
   "mimetype": "text/x-python",
   "name": "python",
   "nbconvert_exporter": "python",
   "pygments_lexer": "ipython3",
   "version": "3.11.7"
  }
 },
 "nbformat": 4,
 "nbformat_minor": 5
}
