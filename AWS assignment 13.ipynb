{
 "cells": [
  {
   "cell_type": "markdown",
   "id": "e3db39f2-d499-4b44-a761-a7f8343f7f59",
   "metadata": {},
   "source": [
    "**Q1) What is Cloud Computing?** \n"
   ]
  },
  {
   "cell_type": "markdown",
   "id": "2d81b67c-e050-43f5-a42f-e62a2bf5a622",
   "metadata": {},
   "source": [
    "Answer:Cloud computing means it provides services to access programs, application, storage, network, server over the internet through browser or \n",
    "client side application on your PC, Laptop, Mobile by the end user without installing, updating and maintaining them. "
   ]
  },
  {
   "cell_type": "markdown",
   "id": "7ddc41df-5902-4786-a664-5c649670fd61",
   "metadata": {},
   "source": [
    "Q2) Why we go for Cloud Computing? \n"
   ]
  },
  {
   "cell_type": "markdown",
   "id": "6bf88771-b8d5-4109-9c55-fd4e128fa04c",
   "metadata": {},
   "source": [
    "Answer: • Lower computing cost • Improved Performance • No IT Maintenance • Business connectivity • Easily upgraded • Device Independent "
   ]
  },
  {
   "cell_type": "markdown",
   "id": "f3f43bd9-df55-40e2-a5cd-63432206e704",
   "metadata": {},
   "source": [
    "Q3) What are the deployment models using in Cloud? \n"
   ]
  },
  {
   "cell_type": "markdown",
   "id": "e4c70ed1-8e42-464e-b616-012a5c91987c",
   "metadata": {},
   "source": [
    "Answer: • Private Cloud \n",
    "• Public Cloud \n",
    "• Hybrid cloud \n",
    "• Community cloud 4 "
   ]
  },
  {
   "cell_type": "markdown",
   "id": "f8054231-5db7-473b-b7a6-d47be05ca99d",
   "metadata": {},
   "source": [
    "Q4) Explain Cloud Service Models? \n"
   ]
  },
  {
   "cell_type": "markdown",
   "id": "855a072d-6a38-4541-91f5-8928bc5affa9",
   "metadata": {},
   "source": [
    "Answer: SAAS (Software as a Service): It is software distribution model in which application are hosted by a vendor over the\n",
    "internet for the end user freeing from complex software and hardware management. (Ex: Google drive, drop box) PAAS (Platform as a Service): \n",
    "It provides platform and environment to allow developers to build applications. \n",
    "    It frees developers without going into the complexity of building and maintaining the infrastructure. \n",
    "(Ex: AWS Elastic Beanstalk, Windows Azure) IAAS (Infrastructure as a Service): It provides virtualized computing resources over the internet \n",
    "like cpu, memory, \n",
    "                                                                                                                                                                                                                                                                       switches, routers, firewall, Dns, Load balancer (Ex: Azure, AWS) "
   ]
  },
  {
   "cell_type": "markdown",
   "id": "1012bfe1-926e-40ea-8996-c6758fb4829a",
   "metadata": {},
   "source": [
    "Q5) What are the advantage of Cloud Computing? \n"
   ]
  },
  {
   "cell_type": "markdown",
   "id": "7f4828b4-0df5-4d41-9562-afaaffb17f7f",
   "metadata": {},
   "source": [
    "Answer: • Pay per use \n",
    "• Scalability \n",
    "• Elasticity \n",
    "• High Availability \n",
    "• Increase speed and Agility \n",
    "• Go global in Minutes"
   ]
  }
 ],
 "metadata": {
  "kernelspec": {
   "display_name": "Python 3 (ipykernel)",
   "language": "python",
   "name": "python3"
  },
  "language_info": {
   "codemirror_mode": {
    "name": "ipython",
    "version": 3
   },
   "file_extension": ".py",
   "mimetype": "text/x-python",
   "name": "python",
   "nbconvert_exporter": "python",
   "pygments_lexer": "ipython3",
   "version": "3.11.7"
  }
 },
 "nbformat": 4,
 "nbformat_minor": 5
}
