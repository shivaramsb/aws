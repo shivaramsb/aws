{
 "cells": [
  {
   "cell_type": "markdown",
   "id": "2fb686f8-0ac5-4ace-bd63-436f9b5902e2",
   "metadata": {},
   "source": [
    "**1.WHAT IS NETWORKING?**\n",
    "\n"
   ]
  },
  {
   "cell_type": "markdown",
   "id": "796a49f2-4c0b-458d-9e4c-22fdf0405d41",
   "metadata": {},
   "source": [
    "Networking is how you connect computers around the world and allow them to communicate with one another. \n",
    "In this trail, you’ve already seen a few examples of networking. One is the AWS global infrastructure. \n",
    "AWS has created a network of resources using data centers, Availability Zones, and Regions."
   ]
  },
  {
   "cell_type": "markdown",
   "id": "efd784ea-044d-448f-8c12-cc3874a62eb5",
   "metadata": {},
   "source": [
    "**2.WHAT ARE IP ADDRESSES?\n",
    "\n"
   ]
  },
  {
   "cell_type": "markdown",
   "id": "be9a035f-1123-4616-84b9-0bfafaf7998c",
   "metadata": {},
   "source": [
    "In order to properly route your messages to a location, you need an address. Just like each home has a mail address, each computer has an IP address. \n",
    "However, instead of using the combination of street, city, state, zip code, and country, the IP address uses a combination of bits, 0s and 1s"
   ]
  },
  {
   "cell_type": "markdown",
   "id": "210c6be2-0db9-451b-baeb-0b323e55df37",
   "metadata": {},
   "source": [
    "WHAT IS IPV4 NOTATION?\n",
    "\n"
   ]
  },
  {
   "cell_type": "markdown",
   "id": "37bfd13a-907a-468f-8db1-e45e03d2178c",
   "metadata": {},
   "source": [
    "Typically, you don’t see an IP address in this binary format. Instead, it’s converted into decimal format and noted as an Ipv4 address. \n",
    "\n",
    "In the diagram below, the 32 bits are grouped into groups of 8 bits, also called octets. Each of these groups is converted into \n",
    "decimal format separated by a period. "
   ]
  }
 ],
 "metadata": {
  "kernelspec": {
   "display_name": "Python 3 (ipykernel)",
   "language": "python",
   "name": "python3"
  },
  "language_info": {
   "codemirror_mode": {
    "name": "ipython",
    "version": 3
   },
   "file_extension": ".py",
   "mimetype": "text/x-python",
   "name": "python",
   "nbconvert_exporter": "python",
   "pygments_lexer": "ipython3",
   "version": "3.11.7"
  }
 },
 "nbformat": 4,
 "nbformat_minor": 5
}
