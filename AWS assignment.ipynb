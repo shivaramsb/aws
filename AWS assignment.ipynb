{
 "cells": [
  {
   "cell_type": "markdown",
   "id": "b11da347-0b61-4a5e-a5a1-62d79388a787",
   "metadata": {},
   "source": [
    "**Q1) What is AWS?**\n"
   ]
  },
  {
   "cell_type": "markdown",
   "id": "d70116bb-0ee1-4123-8b55-7f28e4c759be",
   "metadata": {},
   "source": [
    "Answer:AWS stands for Amazon Web Services. AWS is a platform that provides on-demand resources for hosting web services, \n",
    "storage, networking, databases and other resources over the internet with a pay-as-you-go pricing. \n"
   ]
  },
  {
   "cell_type": "markdown",
   "id": "816c2686-511a-45f0-ad8f-6d9c4d3b7d31",
   "metadata": {},
   "source": [
    "**Q2) What are the components of AWS?** \n"
   ]
  },
  {
   "cell_type": "markdown",
   "id": "f0715e9b-8136-4d5b-9f1e-d385752d01e0",
   "metadata": {},
   "source": [
    "Answer:EC2 – Elastic Compute Cloud, S3 – Simple Storage Service, Route53, EBS – Elastic Block Store, \n",
    "Cloudwatch, Key-Paris are few of the components of AWS. "
   ]
  },
  {
   "cell_type": "markdown",
   "id": "5158bee6-5102-490e-a578-71572bcb3a54",
   "metadata": {},
   "source": [
    "**Q3) What are key-pairs?** \n"
   ]
  },
  {
   "cell_type": "markdown",
   "id": "f17ac2d7-be0b-4c86-bef6-52076788036a",
   "metadata": {},
   "source": [
    "Answer:Key-pairs are secure login information for your instances/virtual machines. To connect to the instances we use key-pairs that contain a public-key and private-key. "
   ]
  },
  {
   "cell_type": "markdown",
   "id": "ed1d5e3e-8bf3-458a-bebd-bd7b7614f2f4",
   "metadata": {},
   "source": [
    "**Q4) What is S3?** \r\n"
   ]
  },
  {
   "cell_type": "markdown",
   "id": "a5e9d175-4348-496b-a1e0-bbf0be55f7cd",
   "metadata": {},
   "source": [
    "Answer:S3 stands for Simple Storage Service. It is a storage service that provides an interface that you can use to store any amount of data, at any time, from anywhere in the world. With S3 you pay only for what you use and the payment model is pay-as-you-go. "
   ]
  },
  {
   "cell_type": "markdown",
   "id": "97fdf8ec-7ef2-4693-97b9-531366b77df2",
   "metadata": {},
   "source": [
    "**Q5) What are the pricing models for EC2 instances?** \n"
   ]
  },
  {
   "cell_type": "markdown",
   "id": "b82fd564-2902-4f19-9b48-b79dbc7aa6e3",
   "metadata": {},
   "source": [
    "Answer: The different pricing model for EC2 instances are as below, • On-demand • Reserved • Spot • Scheduled • Dedicated "
   ]
  },
  {
   "cell_type": "markdown",
   "id": "da7355d0-16e1-4fe7-842f-9b69b4744e50",
   "metadata": {},
   "source": [
    "**Q6) What are the types of volumes for EC2 instances?**\n"
   ]
  },
  {
   "cell_type": "markdown",
   "id": "1c76b8e6-b88b-4b97-ae84-529150d7f1f6",
   "metadata": {},
   "source": [
    "Answer: • There are two types of volumes, • Instance store volumes • EBS – Elastic Block Stores "
   ]
  },
  {
   "cell_type": "markdown",
   "id": "257e422f-43d8-489c-b195-a190e64ec541",
   "metadata": {},
   "source": [
    "**Q7) What are EBS volumes?**"
   ]
  },
  {
   "cell_type": "markdown",
   "id": "ec07a205-9f3a-4877-b88b-ab9bb474ca01",
   "metadata": {},
   "source": [
    "Answer:EBS stands for Elastic Block Stores. They are persistent volumes that you can attach to the instances.\n",
    "With EBS volumes, your data will be preserved even when you stop your instances, unlike your instance store \n",
    "volumes where the data is deleted when you stop the instances. \n"
   ]
  },
  {
   "cell_type": "markdown",
   "id": "5ae2ff9a-7dc2-4da6-a24b-3177c791cdbf",
   "metadata": {},
   "source": [
    "**Q8) What are the types of volumes in EBS?** \n"
   ]
  },
  {
   "cell_type": "markdown",
   "id": "d6795d97-e4c2-4d86-bb0e-ed5b0750087a",
   "metadata": {},
   "source": [
    "Answer:Following are the types of volumes in EBS, • General purpose • Provisioned IOPS • Magnetic • Cold HDD • Throughput optimized "
   ]
  },
  {
   "cell_type": "markdown",
   "id": "6c12271d-6a31-46d0-aad3-5fc31b250a2e",
   "metadata": {},
   "source": [
    "Q9) What are the different types of instances? "
   ]
  },
  {
   "cell_type": "markdown",
   "id": "4caa5e55-a7cd-4754-a7bf-59f0dad5893c",
   "metadata": {},
   "source": [
    "Answer: Following are the types of instances, • General purpose • Computer Optimized • Storage Optimized • Memory Optimized • Accelerated Computing "
   ]
  },
  {
   "cell_type": "markdown",
   "id": "2b17f45e-f673-4eae-89aa-bfaa0dbc0145",
   "metadata": {},
   "source": [
    "Q10) What is an auto-scaling and what are the components?\n"
   ]
  },
  {
   "cell_type": "markdown",
   "id": "e996aa5c-3060-4adb-8d55-4304c9d64883",
   "metadata": {},
   "source": [
    "Answer: Auto scaling allows you to automatically scale-up and scale-down the number of instances depending on the CPU utilization or memory utilization. \n",
    "There are 2 components in Auto scaling,\n",
    "they are Auto-scaling groups and Launch Configuration. "
   ]
  },
  {
   "cell_type": "markdown",
   "id": "b9c5e2b9-57ca-45f0-840e-526cbf08952f",
   "metadata": {},
   "source": [
    "Q11) What are reserved instances? \n"
   ]
  },
  {
   "cell_type": "markdown",
   "id": "abf4b035-1422-446e-8eb7-d76849495abd",
   "metadata": {},
   "source": [
    "Answer: Reserved instances are the instance that you can reserve a fixed capacity of EC2 instances. In reserved instances you will have to get into a \n",
    "contract of 1 year or 3 years. "
   ]
  },
  {
   "cell_type": "markdown",
   "id": "f1f38074-8d6f-472e-9da5-5caa205f54e7",
   "metadata": {},
   "source": [
    "Q12)What is an AMI? \n"
   ]
  },
  {
   "cell_type": "markdown",
   "id": "2f44ea52-7c6e-4c58-8db3-edc68f886126",
   "metadata": {},
   "source": [
    "Answer: AMI stands for Amazon Machine Image. AMI is a template that contains the software configurations, launch permission and a block device \n",
    "mapping that specifies the volume to attach to the instance when it is launched. "
   ]
  }
 ],
 "metadata": {
  "kernelspec": {
   "display_name": "Python 3 (ipykernel)",
   "language": "python",
   "name": "python3"
  },
  "language_info": {
   "codemirror_mode": {
    "name": "ipython",
    "version": 3
   },
   "file_extension": ".py",
   "mimetype": "text/x-python",
   "name": "python",
   "nbconvert_exporter": "python",
   "pygments_lexer": "ipython3",
   "version": "3.11.7"
  }
 },
 "nbformat": 4,
 "nbformat_minor": 5
}
