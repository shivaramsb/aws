{
 "cells": [
  {
   "cell_type": "markdown",
   "id": "4968cd95-1e17-4298-88bf-941b78aee873",
   "metadata": {},
   "source": [
    "**Q1) What are the database types in RDS?** \n"
   ]
  },
  {
   "cell_type": "markdown",
   "id": "22278002-6205-4a09-9148-e73305bfff8c",
   "metadata": {},
   "source": [
    "Answer: Following are the types of databases in RDS, \n",
    "• Aurora \n",
    "• Oracle \n",
    "• MYSQL server \n",
    "• Postgresql \n",
    "• MariaDB \n",
    "• SQL server \n"
   ]
  },
  {
   "cell_type": "markdown",
   "id": "306e2a07-3d5a-484f-ab41-5b027f2169a7",
   "metadata": {},
   "source": [
    "**Q2) What is SNS?**\n"
   ]
  },
  {
   "cell_type": "markdown",
   "id": "4388c2e7-f676-4a92-a80e-9630effbb7e1",
   "metadata": {},
   "source": [
    "Answer: SNS stands for Simple Notification Service. SNS is a web service that makes it easy to notifications from the cloud. \n",
    "You can set up SNS to receive email notification or message notification."
   ]
  },
  {
   "cell_type": "markdown",
   "id": "613ffb6c-85c4-4387-a4c6-7db32ea12a4a",
   "metadata": {},
   "source": [
    "**Q3) What are the types of routing polices in route53?**"
   ]
  },
  {
   "cell_type": "markdown",
   "id": "3d40932e-ef21-4f3f-8857-a0fd8a596cfe",
   "metadata": {},
   "source": [
    "Answer: Following are the types of routing policies in route53, \n",
    "• Simple routing \n",
    "• Latency routing \n",
    "• Failover routing \n",
    "• Geolocation routing \n",
    "• Weighted routing \n",
    "• Multivalue answer "
   ]
  },
  {
   "cell_type": "markdown",
   "id": "842b87f2-219d-4775-84b4-de662746cfa6",
   "metadata": {},
   "source": [
    "**Q4) What is a redshift?**"
   ]
  },
  {
   "cell_type": "markdown",
   "id": "6e1841ac-eb9b-4c1b-8040-5fd8ab1c9cd8",
   "metadata": {},
   "source": [
    "Answer: Amazon redshift is a data warehouse product. It is a fast and powerful, fully managed, petabyte scale data warehouse service in the cloud. "
   ]
  },
  {
   "cell_type": "markdown",
   "id": "623b6a1d-50e4-4e48-84ce-6e08abe6fbbd",
   "metadata": {},
   "source": [
    "**Q5) What is the maximum size of messages in SQS?** \n"
   ]
  },
  {
   "cell_type": "markdown",
   "id": "7754e76e-3399-4058-ae94-e9c85e117bea",
   "metadata": {},
   "source": [
    "Answer: The maximum size of messages in SQS is 256 KB. \n"
   ]
  },
  {
   "cell_type": "markdown",
   "id": "eb65ce33-53f2-4b0f-85d0-1b314ffeda1d",
   "metadata": {},
   "source": [
    "**Q6) What are the types of queues in SQS?** \n"
   ]
  },
  {
   "cell_type": "markdown",
   "id": "90b004eb-b927-4256-893c-4db208fd8133",
   "metadata": {},
   "source": [
    "Answer: There are 2 types of queues in SQS. \n",
    "• Standard queue \n",
    "• FIFO (First In First Out) "
   ]
  },
  {
   "cell_type": "markdown",
   "id": "64712648-121f-4b1a-8545-a49829922f78",
   "metadata": {},
   "source": [
    "**Q7) What is multi-AZ RDS?**\n"
   ]
  },
  {
   "cell_type": "markdown",
   "id": "433b493d-5444-4953-8ced-06a87ff300d2",
   "metadata": {},
   "source": [
    "Answer: Multi-AZ (Availability Zone) RDS allows you to have a replica of your production database in another availability zone. \n",
    "Multi-AZ (Availability Zone) database is used for disaster recovery. You will have an exact copy of your database. \n",
    "    So when your primary database goes down, \n",
    "your application will automatically failover to the standby database. "
   ]
  },
  {
   "cell_type": "markdown",
   "id": "6474a4a3-022a-4e90-86fd-42afa4cd2de8",
   "metadata": {},
   "source": [
    "**Q8) What are the types of backups in RDS database? \n"
   ]
  },
  {
   "cell_type": "markdown",
   "id": "6e57ec27-e2a0-48fd-8a9b-e7d202de49ea",
   "metadata": {},
   "source": [
    "Answer: There are 2 types of backups in RDS database. \n",
    "• Automated backups \n",
    "• Manual backups which are known as snapshots. "
   ]
  },
  {
   "cell_type": "markdown",
   "id": "2aa90371-5b9e-44cb-bdc7-d1d74f27cd4b",
   "metadata": {},
   "source": [
    "Q44) What are the types of load balancers in EC2? \n"
   ]
  },
  {
   "cell_type": "markdown",
   "id": "e8daed4c-7a7d-4386-a0e4-2a4793afafc7",
   "metadata": {},
   "source": [
    "Answer: There are 3 types of load balancers,\n",
    "• Application load balancer \n",
    "• Network load balancer \n",
    "• Classic load balancer"
   ]
  },
  {
   "cell_type": "markdown",
   "id": "a7852540-7a0c-4b03-a7d0-0306d2650422",
   "metadata": {},
   "source": [
    "Q45) What is and ELB? \n"
   ]
  },
  {
   "cell_type": "markdown",
   "id": "c4be73c7-5ae4-4695-8906-8c30a28c88b9",
   "metadata": {},
   "source": [
    "Answer: ELB stands for Elastic Load balancing. ELB automatically distributes the incoming application traffic or \n",
    "network traffic across multiple targets like EC2, containers, IP addresses."
   ]
  }
 ],
 "metadata": {
  "kernelspec": {
   "display_name": "Python 3 (ipykernel)",
   "language": "python",
   "name": "python3"
  },
  "language_info": {
   "codemirror_mode": {
    "name": "ipython",
    "version": 3
   },
   "file_extension": ".py",
   "mimetype": "text/x-python",
   "name": "python",
   "nbconvert_exporter": "python",
   "pygments_lexer": "ipython3",
   "version": "3.11.7"
  }
 },
 "nbformat": 4,
 "nbformat_minor": 5
}
