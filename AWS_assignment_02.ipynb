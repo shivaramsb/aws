{
  "nbformat": 4,
  "nbformat_minor": 0,
  "metadata": {
    "colab": {
      "provenance": []
    },
    "kernelspec": {
      "name": "python3",
      "display_name": "Python 3"
    },
    "language_info": {
      "name": "python"
    }
  },
  "cells": [
    {
      "cell_type": "markdown",
      "source": [
        "\n",
        "\n",
        "**Q1) If I am running on my DB Instance a Multi-AZ deployments,\n",
        "can I use to the stand by the DB Instance for read or\n",
        "write a operation along with to primary DB instance?**\n",
        "\n"
      ],
      "metadata": {
        "id": "KjdPOK5MtBPZ"
      }
    },
    {
      "cell_type": "markdown",
      "source": [
        "Answer: Primary db instance does not working.\n"
      ],
      "metadata": {
        "id": "o8K5kHUps-vv"
      }
    },
    {
      "cell_type": "markdown",
      "source": [
        "**Q2) Which the AWS services will you use to the collect and the process e-commerce data for the near by real-time analysis?**"
      ],
      "metadata": {
        "id": "SVk5HiK9tgIK"
      }
    },
    {
      "cell_type": "markdown",
      "source": [
        "Answer: Good of Amazon DynamoDB.\n"
      ],
      "metadata": {
        "id": "lMKzMsmKt3Jq"
      }
    },
    {
      "cell_type": "markdown",
      "source": [
        "**Q3) A company is deploying the new two-tier an web application in AWS. The company has to limited on staff and the requires high availability, and the application requires to complex queries and table joins. Which configuration provides to the solution for company’s requirements?**"
      ],
      "metadata": {
        "id": "r3XLd2lHt4i6"
      }
    },
    {
      "cell_type": "markdown",
      "source": [
        "Answer: An web application provide on Amazon DynamoDB solution.\n"
      ],
      "metadata": {
        "id": "zhPzksSSuDIs"
      }
    },
    {
      "cell_type": "markdown",
      "source": [
        "**Q4) Which the statement use to cases are suitable for Amazon DynamoDB?**\n"
      ],
      "metadata": {
        "id": "uaS8Ll6iuG10"
      }
    },
    {
      "cell_type": "markdown",
      "source": [
        "Answer:The storing metadata for the Amazon S3 objects& The Running of relational joins and complex an updates."
      ],
      "metadata": {
        "id": "UnDGMVmtuL-M"
      }
    },
    {
      "cell_type": "markdown",
      "source": [
        "**Q5) Your application has to the retrieve on data from your user’s mobile take every 5 minutes and then data is stored in the DynamoDB, later every day at the particular time the data is an extracted into S3 on a per user basis and then your application is later on used to visualize the data to user. You are the asked to the optimize the architecture of the backend system can to lower cost, what would you recommend do?**"
      ],
      "metadata": {
        "id": "Pw95yayBuPeI"
      }
    },
    {
      "cell_type": "markdown",
      "source": [
        "Answer: Introduce Amazon Elasticache to the cache reads from the Amazon DynamoDB table and to reduce the provisioned read throughput."
      ],
      "metadata": {
        "id": "ekz2aIk0uc1g"
      }
    },
    {
      "cell_type": "markdown",
      "source": [
        "**Q81) You are running to website on EC2 instances can deployed across multiple Availability Zones with an Multi-AZ RDS MySQL Extra Large DB Instance etc. Then site performs a high number of the small reads and the write per second and the relies on the eventual consistency model. After the comprehensive tests you discover to that there is read contention on RDS MySQL. Which is the best approaches to the meet these requirements?**"
      ],
      "metadata": {
        "id": "023UHT5CufGw"
      }
    },
    {
      "cell_type": "markdown",
      "source": [
        "Answer:The Deploy Elasti Cache in-memory cache is running in each availability zone and Then Increase the RDS MySQL Instance size and the Implement provisioned IOPS.\n"
      ],
      "metadata": {
        "id": "Rq00kNr_unS3"
      }
    }
  ]
}