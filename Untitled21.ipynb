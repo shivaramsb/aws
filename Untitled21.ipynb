{
 "cells": [
  {
   "cell_type": "markdown",
   "id": "f757dee0-a57f-4345-8a7f-084a4e3f1d7d",
   "metadata": {},
   "source": [
    "**Question 1: Basic EC2 Setup and Configuration**\n"
   ]
  },
  {
   "cell_type": "markdown",
   "id": "77a77fdf-78d6-4171-88cd-8f226799b130",
   "metadata": {},
   "source": [
    "Answer: Launch an EC2 instance via AWS Console, select an AMI, configure key pairs, set security groups, and connect using SSH or RDP."
   ]
  },
  {
   "cell_type": "markdown",
   "id": "f2aaeb04-eb4f-4c21-bdd4-1e2b536ec8cc",
   "metadata": {},
   "source": [
    "**Question 2: Auto Scaling with EC2**\n"
   ]
  },
  {
   "cell_type": "markdown",
   "id": "45a4e997-cb6d-4a19-974d-87eac0ecf9b1",
   "metadata": {},
   "source": [
    "Answer: Create a launch configuration, set up an Auto Scaling group with min, max, \n",
    "desired instances, and configure scaling based on CPU utilization thresholds."
   ]
  },
  {
   "cell_type": "markdown",
   "id": "9bd06e3c-4995-44b8-bb84-5369df85c1c6",
   "metadata": {},
   "source": [
    "**Question 3: EC2 Instance Types Comparison**\n"
   ]
  },
  {
   "cell_type": "markdown",
   "id": "ed5dfd01-e0ba-48a8-b714-bbe3eb450d98",
   "metadata": {},
   "source": [
    "Task: Compare EC2 instance types for a web application.\n",
    "Answer: Compare general-purpose, compute-optimized, and memory-optimized instances based on vCPU, \n",
    "        memory, and cost-effectiveness for your specific web application requirements."
   ]
  },
  {
   "cell_type": "markdown",
   "id": "29acb155-b1c2-4eb6-9ab6-ea7811942544",
   "metadata": {},
   "source": [
    "**Question 4: Security Group Configuration**\n",
    "\n"
   ]
  },
  {
   "cell_type": "markdown",
   "id": "e9fae5b6-eb3b-45bc-9059-8af4a5b840fc",
   "metadata": {},
   "source": [
    "Question 5: EC2 Storage Options\n"
   ]
  },
  {
   "cell_type": "markdown",
   "id": "974587bd-abd5-4427-8e7a-d865a57da19c",
   "metadata": {},
   "source": [
    "Task: Configure security groups for a secure web application.\n",
    "Answer: Create a security group, allow HTTP/HTTPS (ports 80, 443), and SSH (port 22) for specific IPs, while blocking all other traffic.\n",
    "Question 5: EC2 Storage Options"
   ]
  }
 ],
 "metadata": {
  "kernelspec": {
   "display_name": "Python 3 (ipykernel)",
   "language": "python",
   "name": "python3"
  },
  "language_info": {
   "codemirror_mode": {
    "name": "ipython",
    "version": 3
   },
   "file_extension": ".py",
   "mimetype": "text/x-python",
   "name": "python",
   "nbconvert_exporter": "python",
   "pygments_lexer": "ipython3",
   "version": "3.11.7"
  }
 },
 "nbformat": 4,
 "nbformat_minor": 5
}
